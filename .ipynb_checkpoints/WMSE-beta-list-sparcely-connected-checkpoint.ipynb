{
 "cells": [
  {
   "cell_type": "code",
   "execution_count": 1,
   "metadata": {},
   "outputs": [],
   "source": [
    "import numpy as np\n",
    "import matplotlib.pyplot as plot\n",
    "\n",
    "from IPython.display import display, clear_output\n",
    "import ipywidgets as widgets\n",
    "from ipywidgets import interact, interactive\n",
    "\n",
    "from moviepy.editor import VideoClip\n",
    "\n",
    "from wmse import *\n",
    "from wmse_sequence import WMSESequencialModel, WMSESequencialModelBuilder"
   ]
  },
  {
   "cell_type": "code",
   "execution_count": 2,
   "metadata": {},
   "outputs": [],
   "source": [
    "model = WMSESequencialModel(WMSESequencialModelBuilder(3.0).add_pike(10)\n",
    "                                                           .add_pike(10)\n",
    "                                                           .add_pike(10)\n",
    "                                                           .add_pike(10)\n",
    "                                                           .add_connection(1, 2, 5, 1.0, 3.0, 1)\n",
    "                                                           .add_connection(1, 3, 4, 0.0, 3.0, None)\n",
    "                                                           .add_connection(1, 4, 3, 1.0, 3.0, 1)\n",
    "                                                           .add_connection(1, 5, 2, 0.0, 3.0, None)\n",
    "                                                           .add_connection(1, 6, 1, 1.0, 3.0, 1)\n",
    "                                                           .add_connection(1, 7, 0, 0.0, 3.0, None)\n",
    "                                                           .add_connection(2, 2, 5, 1.0, 3.0, 1)\n",
    "                                                           .add_connection(2, 3, 4, 0.0, 3.0, None)\n",
    "                                                           .add_connection(2, 4, 3, 1.0, 3.0, 1)\n",
    "                                                           .add_connection(2, 5, 2, 0.0, 3.0, None)\n",
    "                                                           .add_connection(2, 6, 1, 1.0, 3.0, 1)\n",
    "                                                           .add_connection(2, 7, 0, 0.0, 3.0, None)\n",
    "                                                           .add_connection(3, 2, 5, 1.0, 3.0, 1)\n",
    "                                                           .add_connection(3, 3, 4, 0.0, 3.0, None)\n",
    "                                                           .add_connection(3, 4, 3, 1.0, 3.0, 1)\n",
    "                                                           .add_connection(3, 5, 2, 0.0, 3.0, None)\n",
    "                                                           .add_connection(3, 6, 1, 1.0, 3.0, 1)\n",
    "                                                           .add_connection(3, 7, 0, 0.0, 3.0, None)\n",
    "                           )"
   ]
  },
  {
   "cell_type": "code",
   "execution_count": 3,
   "metadata": {},
   "outputs": [],
   "source": [
    "def see_map(t):\n",
    "    fig = plot.figure(figsize=(6, 6), )\n",
    "    ax = model.visualize(t, False)\n",
    "    plot.title('temperature = %.3f' % t)\n",
    "    fig.canvas.draw()\n",
    "    image = np.array(fig.canvas.renderer._renderer)[:,:,:-1] \n",
    "    return image"
   ]
  },
  {
   "cell_type": "code",
   "execution_count": 7,
   "metadata": {},
   "outputs": [
    {
     "data": {
      "application/vnd.jupyter.widget-view+json": {
       "model_id": "ae167763ddae44c4bc4f7e0d02d7f713",
       "version_major": 2,
       "version_minor": 0
      },
      "text/html": [
       "<p>Failed to display Jupyter Widget of type <code>interactive</code>.</p>\n",
       "<p>\n",
       "  If you're reading this message in the Jupyter Notebook or JupyterLab Notebook, it may mean\n",
       "  that the widgets JavaScript is still loading. If this message persists, it\n",
       "  likely means that the widgets JavaScript library is either not installed or\n",
       "  not enabled. See the <a href=\"https://ipywidgets.readthedocs.io/en/stable/user_install.html\">Jupyter\n",
       "  Widgets Documentation</a> for setup instructions.\n",
       "</p>\n",
       "<p>\n",
       "  If you're reading this message in another frontend (for example, a static\n",
       "  rendering on GitHub or <a href=\"https://nbviewer.jupyter.org/\">NBViewer</a>),\n",
       "  it may mean that your frontend doesn't currently support widgets.\n",
       "</p>\n"
      ],
      "text/plain": [
       "interactive(children=(FloatSlider(value=0.0874, description=u't', max=0.09, min=0.085, step=0.0001), Output()), _dom_classes=('widget-interact',))"
      ]
     },
     "metadata": {},
     "output_type": "display_data"
    },
    {
     "data": {
      "text/plain": [
       "<function __main__.interactive_plot>"
      ]
     },
     "execution_count": 7,
     "metadata": {},
     "output_type": "execute_result"
    }
   ],
   "source": [
    "def interactive_plot(t):\n",
    "    see_map(t)\n",
    "    plot.show()\n",
    "\n",
    "interact(interactive_plot, t = (0.085, 0.09, 0.0001))"
   ]
  },
  {
   "cell_type": "code",
   "execution_count": 14,
   "metadata": {},
   "outputs": [
    {
     "name": "stdout",
     "output_type": "stream",
     "text": [
      "[MoviePy] >>>> Building video melting-sparcely-connected.mp4\n",
      "[MoviePy] Writing video melting-sparcely-connected.mp4\n"
     ]
    },
    {
     "name": "stderr",
     "output_type": "stream",
     "text": [
      " 96%|█████████▌| 24/25 [00:01<00:00, 17.00it/s]\n"
     ]
    },
    {
     "name": "stdout",
     "output_type": "stream",
     "text": [
      "[MoviePy] Done.\n",
      "[MoviePy] >>>> Video ready: melting-sparcely-connected.mp4 \n",
      "\n",
      "fine\n"
     ]
    }
   ],
   "source": [
    "def render_frame(t):\n",
    "    image = see_map(t)\n",
    "\n",
    "    plot.close()\n",
    "    return image\n",
    "    \n",
    "animation = VideoClip(lambda x: render_frame(0.085 + float(x)*0.005), duration = 1.0)\n",
    "animation.write_videofile('melting-sparcely-connected.mp4', fps=24)\n",
    "print 'fine'"
   ]
  },
  {
   "cell_type": "code",
   "execution_count": 12,
   "metadata": {},
   "outputs": [],
   "source": [
    "temperatures = np.arange(0.165, 0.185, 0.0001)"
   ]
  },
  {
   "cell_type": "code",
   "execution_count": 21,
   "metadata": {},
   "outputs": [],
   "source": [
    "melting_curve = map(lambda t: model.get_link_probability(t)[1], temperatures) "
   ]
  },
  {
   "cell_type": "code",
   "execution_count": 19,
   "metadata": {},
   "outputs": [
    {
     "data": {
      "image/png": "[encoded data removed]",
      "text/plain": [
       "<matplotlib.figure.Figure at 0x7efd96a65f90>"
      ]
     },
     "metadata": {},
     "output_type": "display_data"
    }
   ],
   "source": [
    "plot.figure(figsize=(13, 8))\n",
    "diff = np.diff(melting_curve)\n",
    "plot.plot(-diff)\n",
    "plot.title('differential melting curve for $\\\\beta$ list')   \n",
    "plot.legend(fontsize='large')\n",
    "plot.xlabel('temperature')\n",
    "plot.ylabel('$\\\\frac{dp}{dt}$', fontsize='xx-large')\n",
    "plot.xticks(range(0, len(temperatures), 10), np.round(temperatures[::10], decimals=2))\n",
    "plot.show()"
   ]
  },
  {
   "cell_type": "code",
   "execution_count": null,
   "metadata": {},
   "outputs": [],
   "source": []
  }
 ],
 "metadata": {
  "kernelspec": {
   "display_name": "Python 2",
   "language": "python",
   "name": "python2"
  },
  "language_info": {
   "codemirror_mode": {
    "name": "ipython",
    "version": 2
   },
   "file_extension": ".py",
   "mimetype": "text/x-python",
   "name": "python",
   "nbconvert_exporter": "python",
   "pygments_lexer": "ipython2",
   "version": "2.7.12"
  }
 },
 "nbformat": 4,
 "nbformat_minor": 2
}
