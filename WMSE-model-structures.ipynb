{
 "cells": [
  {
   "cell_type": "code",
   "execution_count": 1,
   "metadata": {},
   "outputs": [],
   "source": [
    "from wmse_sequence import WMSESequencialModel, WMSESequencialModelBuilder\n",
    "\n",
    "import matplotlib.pyplot as plot"
   ]
  },
  {
   "cell_type": "code",
   "execution_count": 2,
   "metadata": {},
   "outputs": [],
   "source": [
    "N = 17"
   ]
  },
  {
   "cell_type": "code",
   "execution_count": 3,
   "metadata": {},
   "outputs": [
    {
     "data": {
      "image/png": "[encoded data removed]",
      "text/plain": [
       "<matplotlib.figure.Figure at 0xb403e48>"
      ]
     },
     "metadata": {},
     "output_type": "display_data"
    }
   ],
   "source": [
    "models = []\n",
    "head_size = 2\n",
    "tailsize = 6\n",
    "model = WMSESequencialModel(\n",
    "    WMSESequencialModelBuilder(entropy_loss = 3.0)   \n",
    "        .add_pike(head_size + 5 + tailsize)\n",
    "        .add_pike(head_size + 5 + tailsize)\n",
    "        .add_connection(1, 0, 4, 1.0, 3.0, 1)\n",
    ")\n",
    "plot.figure(figsize=(8, 8))\n",
    "model.visualize(0.03)\n",
    "plot.show()"
   ]
  },
  {
   "cell_type": "code",
   "execution_count": 4,
   "metadata": {},
   "outputs": [
    {
     "data": {
      "image/png": "[encoded data removed]",
      "text/plain": [
       "<matplotlib.figure.Figure at 0xb442898>"
      ]
     },
     "metadata": {},
     "output_type": "display_data"
    }
   ],
   "source": [
    "models = []\n",
    "head_size = 2\n",
    "tailsize = 6\n",
    "model = WMSESequencialModel(\n",
    "    WMSESequencialModelBuilder(entropy_loss = 3.0)   \n",
    "        .add_pike(head_size + 5 + tailsize)\n",
    "        .add_pike(head_size + 5 + tailsize)\n",
    "        .add_connection(1, head_size, 4, 1.0, 3.0, 1)\n",
    ")\n",
    "plot.figure(figsize=(8, 8))\n",
    "model.visualize(0.03)\n",
    "plot.show()"
   ]
  },
  {
   "cell_type": "code",
   "execution_count": 5,
   "metadata": {},
   "outputs": [
    {
     "data": {
      "image/png": "[encoded data removed]",
      "text/plain": [
       "<matplotlib.figure.Figure at 0xb56ec88>"
      ]
     },
     "metadata": {},
     "output_type": "display_data"
    }
   ],
   "source": [
    "models = []\n",
    "head_size = 2\n",
    "total_size = 15\n",
    "model = WMSESequencialModel(\n",
    "    WMSESequencialModelBuilder(entropy_loss = 3.0)   \n",
    "        .add_pike(head_size + 4)\n",
    "        .add_pike(head_size + total_size)\n",
    "        .add_pike(head_size + total_size)\n",
    "        .add_pike(head_size + 6)\n",
    "        .add_connection(1, head_size, 4, 1.0, 3.0, 1)\n",
    "        .add_connection(3, head_size, 6, 1.0, 3.0, 1)\n",
    "\n",
    ")\n",
    "plot.figure(figsize=(8, 8))\n",
    "model.visualize(0.03)\n",
    "plot.show()"
   ]
  },
  {
   "cell_type": "code",
   "execution_count": 6,
   "metadata": {},
   "outputs": [
    {
     "data": {
      "image/png": "[encoded data removed]",
      "text/plain": [
       "<matplotlib.figure.Figure at 0xb403390>"
      ]
     },
     "metadata": {},
     "output_type": "display_data"
    }
   ],
   "source": [
    "models = []\n",
    "head_size = 2\n",
    "total_size = 15\n",
    "model = WMSESequencialModel(\n",
    "    WMSESequencialModelBuilder(entropy_loss = 3.0)   \n",
    "        .add_pike(head_size + 4)\n",
    "        .add_pike(head_size + total_size)\n",
    "        .add_pike(head_size + total_size)\n",
    "        .add_pike(head_size + 6)\n",
    "        .add_connection(1, head_size, 4, 1.0, 3.0, 1)\n",
    "        .add_connection(3, head_size, 6, 1.0, 3.0, 1)\n",
    "        .add_connection(2, total_size - 7, 6, 1.0, 3.0, 2)\n",
    ")\n",
    "plot.figure(figsize=(8, 8))\n",
    "model.visualize(0.03)\n",
    "plot.show()"
   ]
  },
  {
   "cell_type": "code",
   "execution_count": 9,
   "metadata": {},
   "outputs": [
    {
     "data": {
      "image/png": "[encoded data removed]",
      "text/plain": [
       "<matplotlib.figure.Figure at 0xba48ef0>"
      ]
     },
     "metadata": {},
     "output_type": "display_data"
    }
   ],
   "source": [
    "models = []\n",
    "head_size = 1\n",
    "total_size = 5\n",
    "model = WMSESequencialModel(\n",
    "    WMSESequencialModelBuilder(entropy_loss = 3.0)   \n",
    "        .add_pike(head_size + total_size)\n",
    "        .add_pike(head_size + total_size)\n",
    "        .add_pike(head_size + total_size)\n",
    "        .add_pike(head_size + total_size)\n",
    "        .add_connection(1, 1, 3, 1.0, 3.0, 1)\n",
    "        .add_connection(2, 1, 3, 1.0, 3.0, 1)\n",
    "        .add_connection(3, 1, 3, 1.0, 3.0, 1)\n",
    ")\n",
    "plot.figure(figsize=(8, 8))\n",
    "model.visualize(0.03)\n",
    "plot.show()"
   ]
  },
  {
   "cell_type": "code",
   "execution_count": null,
   "metadata": {},
   "outputs": [],
   "source": []
  }
 ],
 "metadata": {
  "kernelspec": {
   "display_name": "Python 2",
   "language": "python",
   "name": "python2"
  },
  "language_info": {
   "codemirror_mode": {
    "name": "ipython",
    "version": 2
   },
   "file_extension": ".py",
   "mimetype": "text/x-python",
   "name": "python",
   "nbconvert_exporter": "python",
   "pygments_lexer": "ipython2",
   "version": "2.7.14"
  }
 },
 "nbformat": 4,
 "nbformat_minor": 2
}
