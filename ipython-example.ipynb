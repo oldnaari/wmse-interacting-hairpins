{
 "cells": [
  {
   "cell_type": "code",
   "execution_count": 1,
   "metadata": {},
   "outputs": [],
   "source": [
    "from ipywidgets import Tab, Output, HBox\n",
    "from ipywidgets.embed import embed_minimal_html\n",
    "\n",
    "from IPython import display"
   ]
  },
  {
   "cell_type": "code",
   "execution_count": 2,
   "metadata": {},
   "outputs": [],
   "source": [
    "tab = Tab()\n",
    "outputs = [(Output(), Output()) for i in range(3)]\n",
    "tab.children = [HBox(o) for o in outputs]\n",
    "\n",
    "for i in range(len(tab.children)):\n",
    "    tab.set_title(i, str(i))\n",
    "    with outputs[i][0]:\n",
    "        print i\n",
    "    with outputs[i][1]:\n",
    "        print i + 1\n",
    "\n",
    "embed_minimal_html('export.html', views=[tab])"
   ]
  },
  {
   "cell_type": "code",
   "execution_count": 3,
   "metadata": {},
   "outputs": [
    {
     "data": {
      "application/vnd.jupyter.widget-view+json": {
       "model_id": "fd670e8ee0f1451f941ee45aab7753f2",
       "version_major": 2,
       "version_minor": 0
      },
      "text/html": [
       "<p>Failed to display Jupyter Widget of type <code>Tab</code>.</p>\n",
       "<p>\n",
       "  If you're reading this message in the Jupyter Notebook or JupyterLab Notebook, it may mean\n",
       "  that the widgets JavaScript is still loading. If this message persists, it\n",
       "  likely means that the widgets JavaScript library is either not installed or\n",
       "  not enabled. See the <a href=\"https://ipywidgets.readthedocs.io/en/stable/user_install.html\">Jupyter\n",
       "  Widgets Documentation</a> for setup instructions.\n",
       "</p>\n",
       "<p>\n",
       "  If you're reading this message in another frontend (for example, a static\n",
       "  rendering on GitHub or <a href=\"https://nbviewer.jupyter.org/\">NBViewer</a>),\n",
       "  it may mean that your frontend doesn't currently support widgets.\n",
       "</p>\n"
      ],
      "text/plain": [
       "Tab(children=(HBox(children=(Output(outputs=({u'output_type': u'stream', u'name': u'stdout', u'text': u'0\\n'},)), Output(outputs=({u'output_type': u'stream', u'name': u'stdout', u'text': u'1\\n'},)))), HBox(children=(Output(outputs=({u'output_type': u'stream', u'name': u'stdout', u'text': u'1\\n'},)), Output(outputs=({u'output_type': u'stream', u'name': u'stdout', u'text': u'2\\n'},)))), HBox(children=(Output(outputs=({u'output_type': u'stream', u'name': u'stdout', u'text': u'2\\n'},)), Output(outputs=({u'output_type': u'stream', u'name': u'stdout', u'text': u'3\\n'},))))), _titles={u'1': '1', u'0': '0', u'2': '2'})"
      ]
     },
     "metadata": {},
     "output_type": "display_data"
    }
   ],
   "source": [
    "tab"
   ]
  },
  {
   "cell_type": "code",
   "execution_count": null,
   "metadata": {},
   "outputs": [],
   "source": []
  }
 ],
 "metadata": {
  "kernelspec": {
   "display_name": "Python 2",
   "language": "python",
   "name": "python2"
  },
  "language_info": {
   "codemirror_mode": {
    "name": "ipython",
    "version": 2
   },
   "file_extension": ".py",
   "mimetype": "text/x-python",
   "name": "python",
   "nbconvert_exporter": "python",
   "pygments_lexer": "ipython2",
   "version": "2.7.14"
  },
  "widgets": {
   "application/vnd.jupyter.widget-state+json": {
    "state": {
     "15f94da1a7ce48dd9d96cfcba2a0fc9d": {
      "model_module": "@jupyter-widgets/output",
      "model_module_version": "1.0.0",
      "model_name": "OutputModel",
      "state": {
       "layout": "IPY_MODEL_315ce35a10824d65ab72d714bde1eb98",
       "outputs": [
        {
         "name": "stdout",
         "output_type": "stream",
         "text": "0\n"
        }
       ]
      }
     },
     "1aae4b9f15674caf81df6809b1a45668": {
      "model_module": "@jupyter-widgets/output",
      "model_module_version": "1.0.0",
      "model_name": "OutputModel",
      "state": {
       "layout": "IPY_MODEL_d529e931ba8a4af79327f9935139bff2",
       "outputs": [
        {
         "name": "stdout",
         "output_type": "stream",
         "text": "3\n"
        }
       ]
      }
     },
     "265d11fe062f41af96a5be2488260826": {
      "model_module": "@jupyter-widgets/base",
      "model_module_version": "1.0.0",
      "model_name": "LayoutModel",
      "state": {}
     },
     "315ce35a10824d65ab72d714bde1eb98": {
      "model_module": "@jupyter-widgets/base",
      "model_module_version": "1.0.0",
      "model_name": "LayoutModel",
      "state": {}
     },
     "5228511dfe7044ce8a57d7d48a67ffde": {
      "model_module": "@jupyter-widgets/output",
      "model_module_version": "1.0.0",
      "model_name": "OutputModel",
      "state": {
       "layout": "IPY_MODEL_a81aacc1515a4154b504b03410cde5b4",
       "outputs": [
        {
         "name": "stdout",
         "output_type": "stream",
         "text": "2\n"
        }
       ]
      }
     },
     "61a79d8659004eab97e0be61c68b6a00": {
      "model_module": "@jupyter-widgets/base",
      "model_module_version": "1.0.0",
      "model_name": "LayoutModel",
      "state": {}
     },
     "7b0ce396e2b44393919473eac28180ca": {
      "model_module": "@jupyter-widgets/base",
      "model_module_version": "1.0.0",
      "model_name": "LayoutModel",
      "state": {}
     },
     "a12c2db97e154fc993c772e0dbe9aa16": {
      "model_module": "@jupyter-widgets/output",
      "model_module_version": "1.0.0",
      "model_name": "OutputModel",
      "state": {
       "layout": "IPY_MODEL_e3b6b61cab7942f6893f7dcc28772b01",
       "outputs": [
        {
         "name": "stdout",
         "output_type": "stream",
         "text": "1\n"
        }
       ]
      }
     },
     "a347d0ac7d9b4e5f8bbead4860c84a60": {
      "model_module": "@jupyter-widgets/base",
      "model_module_version": "1.0.0",
      "model_name": "LayoutModel",
      "state": {}
     },
     "a81aacc1515a4154b504b03410cde5b4": {
      "model_module": "@jupyter-widgets/base",
      "model_module_version": "1.0.0",
      "model_name": "LayoutModel",
      "state": {}
     },
     "b0a6402e7da04cb39e3311acae4145b6": {
      "model_module": "@jupyter-widgets/controls",
      "model_module_version": "1.1.0",
      "model_name": "HBoxModel",
      "state": {
       "children": [
        "IPY_MODEL_15f94da1a7ce48dd9d96cfcba2a0fc9d",
        "IPY_MODEL_a12c2db97e154fc993c772e0dbe9aa16"
       ],
       "layout": "IPY_MODEL_7b0ce396e2b44393919473eac28180ca"
      }
     },
     "b16cebd127664edcaaff0ae31d045bcf": {
      "model_module": "@jupyter-widgets/output",
      "model_module_version": "1.0.0",
      "model_name": "OutputModel",
      "state": {
       "layout": "IPY_MODEL_d6faaf33b582455480e5b4fe5a197a6f",
       "outputs": [
        {
         "name": "stdout",
         "output_type": "stream",
         "text": "2\n"
        }
       ]
      }
     },
     "b52c80211ea341878507ea842711868c": {
      "model_module": "@jupyter-widgets/output",
      "model_module_version": "1.0.0",
      "model_name": "OutputModel",
      "state": {
       "layout": "IPY_MODEL_265d11fe062f41af96a5be2488260826",
       "outputs": [
        {
         "name": "stdout",
         "output_type": "stream",
         "text": "1\n"
        }
       ]
      }
     },
     "b62d0f78c2f64bc9a899e6b716de9a11": {
      "model_module": "@jupyter-widgets/base",
      "model_module_version": "1.0.0",
      "model_name": "LayoutModel",
      "state": {}
     },
     "be91058820ee44aeab2687147cba97e6": {
      "model_module": "@jupyter-widgets/controls",
      "model_module_version": "1.1.0",
      "model_name": "HBoxModel",
      "state": {
       "children": [
        "IPY_MODEL_5228511dfe7044ce8a57d7d48a67ffde",
        "IPY_MODEL_1aae4b9f15674caf81df6809b1a45668"
       ],
       "layout": "IPY_MODEL_b62d0f78c2f64bc9a899e6b716de9a11"
      }
     },
     "d529e931ba8a4af79327f9935139bff2": {
      "model_module": "@jupyter-widgets/base",
      "model_module_version": "1.0.0",
      "model_name": "LayoutModel",
      "state": {}
     },
     "d6faaf33b582455480e5b4fe5a197a6f": {
      "model_module": "@jupyter-widgets/base",
      "model_module_version": "1.0.0",
      "model_name": "LayoutModel",
      "state": {}
     },
     "e3b6b61cab7942f6893f7dcc28772b01": {
      "model_module": "@jupyter-widgets/base",
      "model_module_version": "1.0.0",
      "model_name": "LayoutModel",
      "state": {}
     },
     "eee5a254e2784cceaa5bcb74c779900b": {
      "model_module": "@jupyter-widgets/controls",
      "model_module_version": "1.1.0",
      "model_name": "HBoxModel",
      "state": {
       "children": [
        "IPY_MODEL_b52c80211ea341878507ea842711868c",
        "IPY_MODEL_b16cebd127664edcaaff0ae31d045bcf"
       ],
       "layout": "IPY_MODEL_a347d0ac7d9b4e5f8bbead4860c84a60"
      }
     },
     "f910de81b45f45b1afb9cd2b4009abb3": {
      "model_module": "@jupyter-widgets/controls",
      "model_module_version": "1.1.0",
      "model_name": "TabModel",
      "state": {
       "_titles": {
        "0": "0",
        "1": "1",
        "2": "2"
       },
       "children": [
        "IPY_MODEL_b0a6402e7da04cb39e3311acae4145b6",
        "IPY_MODEL_eee5a254e2784cceaa5bcb74c779900b",
        "IPY_MODEL_be91058820ee44aeab2687147cba97e6"
       ],
       "layout": "IPY_MODEL_61a79d8659004eab97e0be61c68b6a00"
      }
     }
    },
    "version_major": 2,
    "version_minor": 0
   }
  }
 },
 "nbformat": 4,
 "nbformat_minor": 2
}
